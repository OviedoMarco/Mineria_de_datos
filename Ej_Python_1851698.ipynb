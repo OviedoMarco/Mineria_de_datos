{
 "cells": [
  {
   "cell_type": "markdown",
   "id": "e6c473dc",
   "metadata": {},
   "source": [
    "# Ejercicios básicos de Python\n",
    "*Marco Antonio Oviedo Acevedo*\n",
    "\n",
    "*1851698*"
   ]
  },
  {
   "cell_type": "markdown",
   "id": "912fa303",
   "metadata": {},
   "source": [
    "## Ejercicios básicos"
   ]
  },
  {
   "cell_type": "markdown",
   "id": "3efc5e0f",
   "metadata": {},
   "source": [
    "***Ejercicio 1.-***\n",
    "Realiza una variable con tu matricula y realiza una secuencia de imprimir con tu nombre y tu matricula concatenados."
   ]
  },
  {
   "cell_type": "code",
   "execution_count": 76,
   "id": "a03fae80",
   "metadata": {},
   "outputs": [
    {
     "name": "stdout",
     "output_type": "stream",
     "text": [
      "Introduce tu matricula: 1851698\n",
      "Introduce tu nombre: Marco Antonio Oviedo Acevedo\n",
      "Marco Antonio Oviedo Acevedo 1851698\n"
     ]
    }
   ],
   "source": [
    "matricula = int(input(\"Introduce tu matricula: \"))\n",
    "nombre = input(\"Introduce tu nombre: \")\n",
    "print (nombre,matricula)"
   ]
  },
  {
   "cell_type": "markdown",
   "id": "77433792",
   "metadata": {},
   "source": [
    "***Ejercicio 2.-***\n",
    "Pidiendo el input del usuario pide dos números y crea una pequeña calculadora con los operadores básicos de suma, resta, multiplicación, división, y exponente."
   ]
  },
  {
   "cell_type": "code",
   "execution_count": 8,
   "id": "3d6a69d0",
   "metadata": {},
   "outputs": [
    {
     "name": "stdout",
     "output_type": "stream",
     "text": [
      "Bienvenido a la calculadora con los operadores básicos\n",
      "¿Que quieres hacer? Escribe una opción\n",
      "    1) Suma\n",
      "    2) resta \n",
      "    3) multiplicación \n",
      "    4) división \n",
      "    5) exponente\n",
      "    6) Salir\n",
      "7\n",
      "comando desconocido\n",
      "¿Que quieres hacer? Escribe una opción\n",
      "    1) Suma\n",
      "    2) resta \n",
      "    3) multiplicación \n",
      "    4) división \n",
      "    5) exponente\n",
      "    6) Salir\n",
      "6\n",
      "Saliendo de la calculadora\n"
     ]
    }
   ],
   "source": [
    "print(\"Bienvenido a la calculadora con los operadores básicos\")\n",
    "while(True):\n",
    "    print(\"\"\"¿Que quieres hacer? Escribe una opción\n",
    "    1) Suma\n",
    "    2) resta \n",
    "    3) multiplicación \n",
    "    4) división \n",
    "    5) exponente\n",
    "    6) Salir\"\"\")\n",
    "    opcion = int(input())\n",
    "    if opcion == 1:\n",
    "        n1 = float(input(\"introduce el primer numero:\"))\n",
    "        n2 = float(input(\"introduce el segundo numero:\"))\n",
    "        print(\"El resultado de la suma es:\", n1 + n2)\n",
    "    elif opcion == 2:\n",
    "        n1 = float(input(\"introduce el primer numero:\"))\n",
    "        n2 = float(input(\"introduce el segundo numero:\")) \n",
    "        print(\"El resultado de la resta es:\", n1 - n2)\n",
    "    elif opcion == 3:\n",
    "        n1 = float(input(\"introduce el primer numero:\"))\n",
    "        n2 = float(input(\"introduce el segundo numero:\"))\n",
    "        print(\"El resultado de la multiplicacion es:\", n1 * n2)\n",
    "    elif opcion == 4:\n",
    "        n1 = float(input(\"introduce el primer numero:\"))\n",
    "        n2 = float(input(\"introduce el segundo numero:\"))\n",
    "        print(\"El resultado de la división es:\", n1 / n2)\n",
    "    elif opcion == 5:\n",
    "        n1 = float(input(\"introduce el primer numero:\"))\n",
    "        n2 = float(input(\"introduce el segundo numero:\"))\n",
    "        print(\"El resultado del exponente es:\", n1 ** n2)\n",
    "    elif opcion == 6:\n",
    "        print(\"Saliendo de la calculadora\")\n",
    "        break\n",
    "    else:\n",
    "        print(\"comando desconocido\")   "
   ]
  },
  {
   "cell_type": "markdown",
   "id": "79efdcde",
   "metadata": {},
   "source": [
    "***Ejercicio 3.-***\n",
    "Con loop while o for, realiza una lista de 10 numeros multiplos de 3, y después realiza una función de loop que sume todos los números dentro del arreglo."
   ]
  },
  {
   "cell_type": "code",
   "execution_count": 44,
   "id": "45214efb",
   "metadata": {},
   "outputs": [
    {
     "name": "stdout",
     "output_type": "stream",
     "text": [
      "3\n",
      "6\n",
      "9\n",
      "12\n",
      "15\n",
      "18\n",
      "21\n",
      "24\n",
      "27\n",
      "30\n",
      "la suma de la lista es: 165\n"
     ]
    }
   ],
   "source": [
    "suma = 0\n",
    "for i in range(1,11):\n",
    "    a = i * 3\n",
    "    suma = a + suma\n",
    "    print(a)\n",
    "print(\"la suma de la lista es:\",suma)   "
   ]
  },
  {
   "cell_type": "markdown",
   "id": "2b9f2696",
   "metadata": {},
   "source": [
    "***Ejercicio 4.-***\n",
    "Con una función de if else, revisar si un número es par o es impar.\n",
    "Con una función de if else, revisar si un número es primo o no."
   ]
  },
  {
   "cell_type": "code",
   "execution_count": 53,
   "id": "0beccb41",
   "metadata": {},
   "outputs": [
    {
     "name": "stdout",
     "output_type": "stream",
     "text": [
      "introduce un:6\n",
      "es par\n",
      "no es primo\n"
     ]
    }
   ],
   "source": [
    "while(True):\n",
    "    opcion = int(input(\"introduce un:\"))\n",
    "    a = opcion % 2\n",
    "    if a == 1:\n",
    "        print(\"es impar\")\n",
    "        \n",
    "    else:\n",
    "        print(\"es par\")    \n",
    "    i = 0\n",
    "    for n in range(2,opcion):\n",
    "        if a % n == 0:\n",
    "            i +=1    \n",
    "    if i > 0 :\n",
    "        print(\"no es primo\" )\n",
    "        break\n",
    "    else:\n",
    "        print(\"es primo\")\n",
    "        break"
   ]
  },
  {
   "cell_type": "markdown",
   "id": "a1c64afd",
   "metadata": {},
   "source": [
    "***Ejercicio 5.-***\n",
    "Utilizando diferentes clases en python, crea una calculadora con los operadores básicos de suma, resta, multiplicación, división, y exponente."
   ]
  },
  {
   "cell_type": "code",
   "execution_count": 7,
   "id": "17019dd4",
   "metadata": {},
   "outputs": [
    {
     "name": "stdout",
     "output_type": "stream",
     "text": [
      "Bienvenido a la calculadora con los operadores básicos\n",
      "¿Que quieres hacer? Escribe una opción\n",
      "    1) Suma\n",
      "    2) resta \n",
      "    3) multiplicación \n",
      "    4) división \n",
      "    5) exponente\n",
      "    6) Salir\n",
      "2\n",
      "introduce el primer numero:1\n",
      "introduce el segundo numero:2\n",
      "El resultado de la resta es: -1.0\n",
      "¿Que quieres hacer? Escribe una opción\n",
      "    1) Suma\n",
      "    2) resta \n",
      "    3) multiplicación \n",
      "    4) división \n",
      "    5) exponente\n",
      "    6) Salir\n",
      "5\n",
      "introduce el primer numero:2\n",
      "introduce el segundo numero:2\n",
      "El resultado del exponente es: 4.0\n",
      "¿Que quieres hacer? Escribe una opción\n",
      "    1) Suma\n",
      "    2) resta \n",
      "    3) multiplicación \n",
      "    4) división \n",
      "    5) exponente\n",
      "    6) Salir\n",
      "5\n",
      "introduce el primer numero:3\n",
      "introduce el segundo numero:6\n",
      "El resultado del exponente es: 729.0\n",
      "¿Que quieres hacer? Escribe una opción\n",
      "    1) Suma\n",
      "    2) resta \n",
      "    3) multiplicación \n",
      "    4) división \n",
      "    5) exponente\n",
      "    6) Salir\n",
      "1\n",
      "introduce el primer numero:3\n",
      "introduce el segundo numero:5\n",
      "El resultado de la suma es: 8.0\n",
      "¿Que quieres hacer? Escribe una opción\n",
      "    1) Suma\n",
      "    2) resta \n",
      "    3) multiplicación \n",
      "    4) división \n",
      "    5) exponente\n",
      "    6) Salir\n",
      "6\n",
      "Saliendo de la calculadora\n"
     ]
    }
   ],
   "source": [
    "import math as m\n",
    "def suma(x,y):\n",
    "    return(x+y)\n",
    "def resta(x,y):\n",
    "    return(x-y)\n",
    "def division(x,y):\n",
    "    return(x/y)\n",
    "def multiplicacion(x,y):\n",
    "    return(x*y)\n",
    "def exponente(x,y):\n",
    "    return(x**y)\n",
    "print(\"Bienvenido a la calculadora con los operadores básicos\")\n",
    "while(True):\n",
    "    print(\"\"\"¿Que quieres hacer? Escribe una opción\n",
    "    1) Suma\n",
    "    2) resta \n",
    "    3) multiplicación \n",
    "    4) división \n",
    "    5) exponente\n",
    "    6) Salir\"\"\")\n",
    "    opcion = int(input())\n",
    "    if opcion == 1:\n",
    "        n1 = float(input(\"introduce el primer numero:\"))\n",
    "        n2 = float(input(\"introduce el segundo numero:\")) \n",
    "        print(\"El resultado de la suma es:\", suma(n1,n2) )\n",
    "    elif opcion == 2:\n",
    "        n1 = float(input(\"introduce el primer numero:\"))\n",
    "        n2 = float(input(\"introduce el segundo numero:\")) \n",
    "        print(\"El resultado de la resta es:\", resta(n1,n2) )\n",
    "    elif opcion == 3:\n",
    "        n1 = float(input(\"introduce el primer numero:\"))\n",
    "        n2 = float(input(\"introduce el segundo numero:\"))\n",
    "        print(\"El resultado de la multiplicacion es:\", multiplicacion(n1,n2) )\n",
    "    elif opcion == 4:\n",
    "        n1 = float(input(\"introduce el primer numero:\"))\n",
    "        n2 = float(input(\"introduce el segundo numero:\"))\n",
    "        print(\"El resultado de la división es:\", division(n1,n2) )\n",
    "    elif opcion == 5:\n",
    "        n1 = float(input(\"introduce el primer numero:\"))\n",
    "        n2 = float(input(\"introduce el segundo numero:\"))\n",
    "        print(\"El resultado del exponente es:\", exponente(n1,n2) )\n",
    "    elif opcion == 6:\n",
    "        print(\"Saliendo de la calculadora\")\n",
    "        break\n",
    "    else:\n",
    "        print(\"comando desconocido\")  "
   ]
  },
  {
   "cell_type": "markdown",
   "id": "c1d4c074",
   "metadata": {},
   "source": [
    "## Ejercicios con estructuras básicas de python"
   ]
  },
  {
   "cell_type": "markdown",
   "id": "d38f867f",
   "metadata": {},
   "source": [
    "### Tuplas"
   ]
  },
  {
   "cell_type": "markdown",
   "id": "a2f37480",
   "metadata": {},
   "source": [
    "***Ejercicio 6.-***\n",
    "Crear una variable flotante, integer, boleana y compleja e imprimir el tipo de variable que es"
   ]
  },
  {
   "cell_type": "code",
   "execution_count": 77,
   "id": "f1b60532",
   "metadata": {},
   "outputs": [
    {
     "name": "stdout",
     "output_type": "stream",
     "text": [
      "integer es de tipo:  <class 'int'>\n",
      "flotante es de tipo:  <class 'float'>\n",
      "boleano es de tipo:  <class 'bool'>\n",
      "compleja es de tipo:  <class 'complex'>\n"
     ]
    }
   ],
   "source": [
    "integer = int(5)\n",
    "flotante = float(5.5)\n",
    "boleano = bool(1)\n",
    "compleja = complex(657.23e+34)\n",
    "print(\"integer es de tipo: \", type(integer))\n",
    "print(\"flotante es de tipo: \", type (flotante))\n",
    "print(\"boleano es de tipo: \", type (boleano))\n",
    "print(\"compleja es de tipo: \", type (compleja))"
   ]
  },
  {
   "cell_type": "markdown",
   "id": "597ecce2",
   "metadata": {},
   "source": [
    "***Ejercicio 7.-***\n",
    "Crear una tupla con valores enteros imprimir el primer y ultimo valor."
   ]
  },
  {
   "cell_type": "code",
   "execution_count": 70,
   "id": "4fef90b7",
   "metadata": {},
   "outputs": [
    {
     "name": "stdout",
     "output_type": "stream",
     "text": [
      "primer valor: 1\n",
      "ultimo valor: 5\n"
     ]
    }
   ],
   "source": [
    "tupla = (1 , 2, 3, 4 , 5)\n",
    "print(\"primer valor:\",tupla[0])\n",
    "print(\"ultimo valor:\",tupla[-1])"
   ]
  },
  {
   "cell_type": "markdown",
   "id": "d6c5207e",
   "metadata": {},
   "source": [
    "***Ejercicio 8.-***\n",
    "Añadir 3 valores de string a la tupla."
   ]
  },
  {
   "cell_type": "markdown",
   "id": "a8a337a0",
   "metadata": {},
   "source": [
    "__Es imposible añadir más valores a la tupla anterioremente al ser inmutables, las tuplas no disponen de métodos para modificar su contenido__"
   ]
  },
  {
   "cell_type": "markdown",
   "id": "cad60c4e",
   "metadata": {},
   "source": [
    "***Ejercicio 9.-***\n",
    "Verificar si una variable existe dentro de la tupla."
   ]
  },
  {
   "cell_type": "code",
   "execution_count": 75,
   "id": "387f4b0c",
   "metadata": {},
   "outputs": [
    {
     "name": "stdout",
     "output_type": "stream",
     "text": [
      "3 *existen en nuestro tupla y verificador\n",
      "5 *existen en nuestro tupla y verificador\n"
     ]
    }
   ],
   "source": [
    "verificador = (3, 5)\n",
    "\n",
    "for i in tupla:\n",
    "    if i in verificador:\n",
    "        print(i, \"* si existen en nuestro tupla\")"
   ]
  },
  {
   "cell_type": "markdown",
   "id": "2ab8cd9c",
   "metadata": {},
   "source": [
    "### Listas"
   ]
  },
  {
   "cell_type": "markdown",
   "id": "c979a854",
   "metadata": {},
   "source": [
    "***Ejercicio 10.-***\n",
    "* Crear una lista con 40 elementos aleatorios enteros.\n",
    "* Con una funcion (def) crear dos listas nuevas a partir de la lista creada por numeros aleatorios, en la cual en una esten los elementos pares, y en la otra los elementos impares.\n",
    "* Crear dos variables con la longitud de ambas listas nuevas e imprimir las variables.\n",
    "* Ordenar los elementos de la lista par de mayor a menor, y los de la lista impar de menor a mayor.\n",
    "* Utilizar al menos cuatro de las funciones de listas en python en la lista original de 40 elementos."
   ]
  },
  {
   "cell_type": "code",
   "execution_count": 39,
   "id": "457ca463",
   "metadata": {},
   "outputs": [
    {
     "name": "stdout",
     "output_type": "stream",
     "text": [
      "Tamaño de nuestro set 40\n"
     ]
    }
   ],
   "source": [
    "#Crear una lista con 40 elementos aleatorios enteros.\n",
    "import random as r\n",
    "\n",
    "lista = []\n",
    "while len(lista) < 40:\n",
    "    lista.append(r.randint(0,40)) \n",
    "print(\"Tamaño de nuestro set\", len(lista))"
   ]
  },
  {
   "cell_type": "code",
   "execution_count": 92,
   "id": "1ed7e165",
   "metadata": {},
   "outputs": [
    {
     "name": "stdout",
     "output_type": "stream",
     "text": [
      "introduce el numero total de los elementos de la lista:5\n",
      "lista con los elementos pares:  [2, 2, 2] lista con los elementos impares:  [3, 1]\n"
     ]
    }
   ],
   "source": [
    "#Con una funcion (def) crear dos listas nuevas a partir de la lista creada por numeros aleatorios, \n",
    "#en la cual en una esten los elementos pares, y en la otra los elementos impares.\n",
    "\n",
    "n = int(input(\"introduce el numero total de los elementos de la lista:\"))\n",
    "verificador = 0\n",
    "def Creacion_de_lista_aleatoria(n):\n",
    "    lista = []\n",
    "    impar = []\n",
    "    par = []\n",
    "    \n",
    "    while len(lista) < n:\n",
    "        lista.append(r.randint(1,n)) \n",
    "    \n",
    "    for i in range(n):\n",
    "        verificador = lista[i] % 2\n",
    "        if verificador == 1:\n",
    "            impar.append(lista[i])\n",
    "        elif verificador == 0:\n",
    "            par.append(lista[i])\n",
    "    return lista,par, impar\n",
    "\n",
    "lista,par,impar = Creacion_de_lista_aleatoria(n)\n",
    "print(\"lista con los elementos pares: \",par,\"lista con los elementos impares: \",impar) "
   ]
  },
  {
   "cell_type": "code",
   "execution_count": 93,
   "id": "c7177e03",
   "metadata": {},
   "outputs": [
    {
     "name": "stdout",
     "output_type": "stream",
     "text": [
      "tamaño de la lista pares:  3\n",
      "tamaño de la lista pares: impares:  2\n"
     ]
    }
   ],
   "source": [
    "print(\"tamaño de la lista pares: \",len(par))\n",
    "print(\"tamaño de la lista pares: impares: \",len(impar))"
   ]
  },
  {
   "cell_type": "code",
   "execution_count": 94,
   "id": "0c73627b",
   "metadata": {},
   "outputs": [
    {
     "name": "stdout",
     "output_type": "stream",
     "text": [
      "tamaño de la lista pares:  [2, 2, 2]\n",
      "tamaño de la lista pares: impares:  [1, 3]\n"
     ]
    }
   ],
   "source": [
    "print(\"tamaño de la lista pares: \",sorted(par, reverse = True))\n",
    "print(\"tamaño de la lista pares: impares: \",sorted(impar))"
   ]
  },
  {
   "cell_type": "code",
   "execution_count": 95,
   "id": "a8fe9a1b",
   "metadata": {},
   "outputs": [
    {
     "name": "stdout",
     "output_type": "stream",
     "text": [
      "[2, 3, 2, 2]\n",
      "[2, 'Hola', 2, 2]\n",
      "2\n",
      "[2, 'Hola', 2, 2, 7]\n"
     ]
    }
   ],
   "source": [
    "lista.pop() #eliminamos un elemento\n",
    "print(lista)\n",
    "lista[1] = \"Hola\" #cambiamos un elemento\n",
    "print(lista)\n",
    "print(lista[-1]) # podemos leer con indices negativos\n",
    "lista.append(7) # agregar elementos\n",
    "print(lista)"
   ]
  },
  {
   "cell_type": "markdown",
   "id": "0cd9199b",
   "metadata": {},
   "source": [
    "### Diccionarios"
   ]
  },
  {
   "cell_type": "markdown",
   "id": "3527d372",
   "metadata": {},
   "source": [
    "***Ejercicio 11.-***\n",
    "* Crear un diccionario de 6 personas que conozcas con su primer nombre y su edad.\n",
    "* Crear una lista con los valores de la edad y reacomodar la lista de menor a mayor valor.\n",
    "* Usando el diccionario y un loop, imprimir solo los nombres.\n",
    "* Añadir dos personas nuevas a tu diccionario, incluyendo edad."
   ]
  },
  {
   "cell_type": "code",
   "execution_count": 2,
   "id": "a949fd4d",
   "metadata": {},
   "outputs": [
    {
     "name": "stdout",
     "output_type": "stream",
     "text": [
      "Diccionario\n",
      "{'Marco': 19, 'Jacky': 20, 'Oswaldo': 20, 'Zully': 21, 'Nayelli': 20, 'Luis': 19}\n",
      "-------------------------------------------------------------------------------------------------\n",
      "ordenamiento\n",
      "[('Marco', 19), ('Luis', 19), ('Jacky', 20), ('Oswaldo', 20), ('Nayelli', 20), ('Zully', 21)]\n",
      "-------------------------------------------------------------------------------------------------\n",
      "nombres\n",
      "Marco\n",
      "Jacky\n",
      "Oswaldo\n",
      "Zully\n",
      "Nayelli\n",
      "Luis\n",
      "-------------------------------------------------------------------------------------------------\n",
      "nuevas personas\n",
      "Marco\n",
      "Jacky\n",
      "Oswaldo\n",
      "Zully\n",
      "Nayelli\n",
      "Luis\n",
      "Hector\n",
      "Isaac\n"
     ]
    }
   ],
   "source": [
    "print(\"Diccionario\")\n",
    "edades = {\"Marco\":19, \"Jacky\":20, \"Oswaldo\":20, \"Zully\": 21, \"Nayelli\":20, \"Luis\":19}\n",
    "print(edades)\n",
    "print(\"-------------------------------------------------------------------------------------------------\")\n",
    "print(\"ordenamiento\")\n",
    "\n",
    "import operator\n",
    "ordenado = sorted(edades.items(), key=operator.itemgetter(1))\n",
    "print(ordenado)\n",
    "\n",
    "print(\"-------------------------------------------------------------------------------------------------\")\n",
    "print(\"nombres\")\n",
    "for edad in edades:\n",
    "    print(edad)\n",
    "\n",
    "print(\"-------------------------------------------------------------------------------------------------\")\n",
    "print(\"nuevas personas\")\n",
    "edades[\"Hector\"] = 20\n",
    "edades[\"Isaac\"] = 25\n",
    "for edad in edades:\n",
    "    print(edad)"
   ]
  },
  {
   "cell_type": "markdown",
   "id": "d5958fc5",
   "metadata": {},
   "source": [
    "### Sets"
   ]
  },
  {
   "cell_type": "markdown",
   "id": "b540784e",
   "metadata": {},
   "source": [
    "***Ejercicio 12.-***\n",
    "* Crea un set con 100 numeros aleatorios enteros del 1 al 25\n",
    "* Comprueba la longitud de tu set.\n",
    "* Crea una lista de 5 numeros aleatorios del 1 al 10 y comprueba si cada valor aparece en el set inicial."
   ]
  },
  {
   "cell_type": "code",
   "execution_count": null,
   "id": "0df8e19a",
   "metadata": {},
   "outputs": [],
   "source": [
    "import random as r\n",
    "\n",
    "sets=set()\n",
    "while len(sets) < 100:\n",
    "    sets.add(r.randint(1,25)) \n",
    "print(\"Tamaño de nuestro set\", len(sets))\n",
    "print(\"---------------------------------------------------\")\n",
    "lista=set()\n",
    "while len(sets) < 5:\n",
    "    lista.add(r.randint(1,10))\n",
    "    \n",
    "for numero in lista:\n",
    "    if numero in sets:\n",
    "        print(numero, \"se encuentra en nuestro set\")\n",
    "    else:\n",
    "        print(numero, \"no se encuentra en nuestro set\")\n",
    "        \n",
    "### El codigo se tarda en ejecutar por los 100 elementos pero en google colab si se ejecuto "
   ]
  },
  {
   "cell_type": "markdown",
   "id": "d05606be",
   "metadata": {},
   "source": [
    "**** otra manera de hacerlo ****"
   ]
  },
  {
   "cell_type": "code",
   "execution_count": 75,
   "id": "3c30b82d",
   "metadata": {},
   "outputs": [
    {
     "name": "stdout",
     "output_type": "stream",
     "text": [
      "Tamaño de nuestro set:  25\n",
      "10 no se encuentra en nuestro set\n",
      "6 se encuentra en nuestro set\n",
      "1 se encuentra en nuestro set\n",
      "10 se encuentra en nuestro set\n",
      "10 se encuentra en nuestro set\n"
     ]
    }
   ],
   "source": [
    "import random as r\n",
    "verificador = 0\n",
    "sets = set()\n",
    "for i in range(100):\n",
    "    sets.add(r.randint(1,25))\n",
    "tamaño = len(sets)\n",
    "print(\"Tamaño de nuestro set: \", tamaño)\n",
    "\n",
    "lista=list()\n",
    "for i in range(5):\n",
    "    lista.insert(i,r.randint(1,10))\n",
    "   \n",
    "for numero in range(0, len(lista)):\n",
    "    if numero in sets:\n",
    "        print(lista[numero], \"se encuentra en nuestro set\")\n",
    "    else:\n",
    "        print(lista[numero], \"no se encuentra en nuestro set\")"
   ]
  }
 ],
 "metadata": {
  "kernelspec": {
   "display_name": "Python 3",
   "language": "python",
   "name": "python3"
  },
  "language_info": {
   "codemirror_mode": {
    "name": "ipython",
    "version": 3
   },
   "file_extension": ".py",
   "mimetype": "text/x-python",
   "name": "python",
   "nbconvert_exporter": "python",
   "pygments_lexer": "ipython3",
   "version": "3.8.8"
  }
 },
 "nbformat": 4,
 "nbformat_minor": 5
}
